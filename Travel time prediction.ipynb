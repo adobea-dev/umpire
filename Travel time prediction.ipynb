{
 "cells": [
  {
   "cell_type": "markdown",
   "id": "aba674eb-7c6e-48f4-908e-627f572e9dfc",
   "metadata": {},
   "source": [
    "We aim to predict travel time minutes per trip id using features like route id , hour of the dat and route type "
   ]
  },
  {
   "cell_type": "code",
   "execution_count": 1,
   "id": "e6ce52b7-11fa-4be2-bc44-d0a6f521d806",
   "metadata": {},
   "outputs": [
    {
     "name": "stdout",
     "output_type": "stream",
     "text": [
      "C:\\Users\\S P E C T R E\\Desktop\\Personal Projects\\umpire\n"
     ]
    }
   ],
   "source": [
    "#libraries\n",
    "import pandas as pd\n",
    "import os\n",
    "print(os.getcwd())"
   ]
  },
  {
   "cell_type": "code",
   "execution_count": 2,
   "id": "0747c254-fee3-494e-8213-115ca37bbedb",
   "metadata": {},
   "outputs": [],
   "source": [
    "base_path = r\"C:\\Users\\S P E C T R E\\Desktop\\Personal Projects\\umpire\\gtfs-accra-ghana-2016\""
   ]
  },
  {
   "cell_type": "code",
   "execution_count": 3,
   "id": "43150e0a-17f5-42c6-a388-f54b67026f96",
   "metadata": {},
   "outputs": [],
   "source": [
    "stop_times = pd.read_csv(f\"{base_path}\\\\stop_times.csv\")\n",
    "trips = pd.read_csv(f\"{base_path}\\\\trips.csv\")\n",
    "routes = pd.read_csv(f\"{base_path}\\\\routes.csv\")\n",
    "calendar = pd.read_csv(f\"{base_path}\\\\calendar.csv\")\n",
    "shapes = pd.read_csv(f\"{base_path}\\\\shapes.csv\")\n",
    "stops = pd.read_csv(f\"{base_path}\\\\stops.csv\")\n",
    "fare_rules = pd.read_csv(f\"{base_path}\\\\fare_rules.csv\")\n",
    "fare_attributes = pd.read_csv(f\"{base_path}\\\\fare_attributes.csv\")\n",
    "agency = pd.read_csv(f\"{base_path}\\\\agency.csv\")"
   ]
  },
  {
   "cell_type": "markdown",
   "id": "69eb8605-b811-4798-9801-badecec5b3a6",
   "metadata": {},
   "source": [
    "### Calculating travel time per trip"
   ]
  },
  {
   "cell_type": "code",
   "execution_count": 4,
   "id": "1ec7f1a5-dc83-4a0f-bbb0-adce29078b6e",
   "metadata": {},
   "outputs": [
    {
     "data": {
      "text/html": [
       "<div>\n",
       "<style scoped>\n",
       "    .dataframe tbody tr th:only-of-type {\n",
       "        vertical-align: middle;\n",
       "    }\n",
       "\n",
       "    .dataframe tbody tr th {\n",
       "        vertical-align: top;\n",
       "    }\n",
       "\n",
       "    .dataframe thead th {\n",
       "        text-align: right;\n",
       "    }\n",
       "</style>\n",
       "<table border=\"1\" class=\"dataframe\">\n",
       "  <thead>\n",
       "    <tr style=\"text-align: right;\">\n",
       "      <th></th>\n",
       "      <th>trip_id</th>\n",
       "      <th>start_time</th>\n",
       "      <th>end_time</th>\n",
       "      <th>travel_time_minutes</th>\n",
       "    </tr>\n",
       "  </thead>\n",
       "  <tbody>\n",
       "    <tr>\n",
       "      <th>0</th>\n",
       "      <td>002A_1</td>\n",
       "      <td>0 days 12:51:38</td>\n",
       "      <td>0 days 13:10:58</td>\n",
       "      <td>19.333333</td>\n",
       "    </tr>\n",
       "    <tr>\n",
       "      <th>1</th>\n",
       "      <td>002B_1</td>\n",
       "      <td>0 days 13:16:27</td>\n",
       "      <td>0 days 13:44:40</td>\n",
       "      <td>28.216667</td>\n",
       "    </tr>\n",
       "    <tr>\n",
       "      <th>2</th>\n",
       "      <td>003A_1</td>\n",
       "      <td>0 days 13:51:37</td>\n",
       "      <td>0 days 14:45:08</td>\n",
       "      <td>53.516667</td>\n",
       "    </tr>\n",
       "    <tr>\n",
       "      <th>3</th>\n",
       "      <td>003B_1</td>\n",
       "      <td>0 days 15:28:50</td>\n",
       "      <td>0 days 15:55:50</td>\n",
       "      <td>27.000000</td>\n",
       "    </tr>\n",
       "    <tr>\n",
       "      <th>4</th>\n",
       "      <td>004A_1</td>\n",
       "      <td>0 days 13:22:52</td>\n",
       "      <td>0 days 14:09:22</td>\n",
       "      <td>46.500000</td>\n",
       "    </tr>\n",
       "  </tbody>\n",
       "</table>\n",
       "</div>"
      ],
      "text/plain": [
       "  trip_id      start_time        end_time  travel_time_minutes\n",
       "0  002A_1 0 days 12:51:38 0 days 13:10:58            19.333333\n",
       "1  002B_1 0 days 13:16:27 0 days 13:44:40            28.216667\n",
       "2  003A_1 0 days 13:51:37 0 days 14:45:08            53.516667\n",
       "3  003B_1 0 days 15:28:50 0 days 15:55:50            27.000000\n",
       "4  004A_1 0 days 13:22:52 0 days 14:09:22            46.500000"
      ]
     },
     "execution_count": 4,
     "metadata": {},
     "output_type": "execute_result"
    }
   ],
   "source": [
    "#convert times to timedelta\n",
    "stop_times[\"arrival_time\"] = pd.to_timedelta(stop_times[\"arrival_time\"], errors = \"coerce\")\n",
    "stop_times[\"departure_time\"] = pd.to_timedelta(stop_times[\"departure_time\"], errors = \"coerce\")\n",
    "\n",
    "#trip start and end times\n",
    "trip_durations = (\n",
    "    stop_times.groupby('trip_id')\n",
    "    .agg(start_time=('departure_time', 'min'), end_time=('arrival_time', 'max'))\n",
    "    .reset_index()\n",
    ")\n",
    "\n",
    "# Calculate travel time in minutes\n",
    "trip_durations['travel_time_minutes'] = (trip_durations['end_time'] - trip_durations['start_time']).dt.total_seconds() / 60\n",
    "trip_durations.head()"
   ]
  },
  {
   "cell_type": "markdown",
   "id": "c66c4ee9-b35b-414d-bdd8-c1fefca116fc",
   "metadata": {},
   "source": [
    "### Feature Engineering - Route info + hour of day"
   ]
  },
  {
   "cell_type": "code",
   "execution_count": 5,
   "id": "d47fb4ce-1f0e-45e4-a0e6-3d3ab01c676d",
   "metadata": {},
   "outputs": [
    {
     "name": "stdout",
     "output_type": "stream",
     "text": [
      "['route_id', 'service_id', 'trip_id', 'shape_id']\n"
     ]
    }
   ],
   "source": [
    "print(trips.columns.tolist())"
   ]
  },
  {
   "cell_type": "code",
   "execution_count": 6,
   "id": "cf1bc5be-a728-4e4c-8834-b1b5a9f4b7af",
   "metadata": {},
   "outputs": [
    {
     "data": {
      "text/html": [
       "<div>\n",
       "<style scoped>\n",
       "    .dataframe tbody tr th:only-of-type {\n",
       "        vertical-align: middle;\n",
       "    }\n",
       "\n",
       "    .dataframe tbody tr th {\n",
       "        vertical-align: top;\n",
       "    }\n",
       "\n",
       "    .dataframe thead th {\n",
       "        text-align: right;\n",
       "    }\n",
       "</style>\n",
       "<table border=\"1\" class=\"dataframe\">\n",
       "  <thead>\n",
       "    <tr style=\"text-align: right;\">\n",
       "      <th></th>\n",
       "      <th>trip_id</th>\n",
       "      <th>start_time</th>\n",
       "      <th>end_time</th>\n",
       "      <th>travel_time_minutes</th>\n",
       "      <th>route_id</th>\n",
       "      <th>service_id</th>\n",
       "      <th>route_type</th>\n",
       "      <th>hour_of_day</th>\n",
       "    </tr>\n",
       "  </thead>\n",
       "  <tbody>\n",
       "    <tr>\n",
       "      <th>0</th>\n",
       "      <td>002A_1</td>\n",
       "      <td>0 days 12:51:38</td>\n",
       "      <td>0 days 13:10:58</td>\n",
       "      <td>19.333333</td>\n",
       "      <td>002A</td>\n",
       "      <td>service</td>\n",
       "      <td>3</td>\n",
       "      <td>12</td>\n",
       "    </tr>\n",
       "    <tr>\n",
       "      <th>1</th>\n",
       "      <td>002B_1</td>\n",
       "      <td>0 days 13:16:27</td>\n",
       "      <td>0 days 13:44:40</td>\n",
       "      <td>28.216667</td>\n",
       "      <td>002B</td>\n",
       "      <td>service</td>\n",
       "      <td>3</td>\n",
       "      <td>13</td>\n",
       "    </tr>\n",
       "    <tr>\n",
       "      <th>2</th>\n",
       "      <td>003A_1</td>\n",
       "      <td>0 days 13:51:37</td>\n",
       "      <td>0 days 14:45:08</td>\n",
       "      <td>53.516667</td>\n",
       "      <td>003A</td>\n",
       "      <td>service</td>\n",
       "      <td>3</td>\n",
       "      <td>13</td>\n",
       "    </tr>\n",
       "    <tr>\n",
       "      <th>3</th>\n",
       "      <td>003B_1</td>\n",
       "      <td>0 days 15:28:50</td>\n",
       "      <td>0 days 15:55:50</td>\n",
       "      <td>27.000000</td>\n",
       "      <td>003B</td>\n",
       "      <td>service</td>\n",
       "      <td>3</td>\n",
       "      <td>15</td>\n",
       "    </tr>\n",
       "    <tr>\n",
       "      <th>4</th>\n",
       "      <td>004A_1</td>\n",
       "      <td>0 days 13:22:52</td>\n",
       "      <td>0 days 14:09:22</td>\n",
       "      <td>46.500000</td>\n",
       "      <td>004A</td>\n",
       "      <td>service</td>\n",
       "      <td>3</td>\n",
       "      <td>13</td>\n",
       "    </tr>\n",
       "  </tbody>\n",
       "</table>\n",
       "</div>"
      ],
      "text/plain": [
       "  trip_id      start_time        end_time  travel_time_minutes route_id  \\\n",
       "0  002A_1 0 days 12:51:38 0 days 13:10:58            19.333333     002A   \n",
       "1  002B_1 0 days 13:16:27 0 days 13:44:40            28.216667     002B   \n",
       "2  003A_1 0 days 13:51:37 0 days 14:45:08            53.516667     003A   \n",
       "3  003B_1 0 days 15:28:50 0 days 15:55:50            27.000000     003B   \n",
       "4  004A_1 0 days 13:22:52 0 days 14:09:22            46.500000     004A   \n",
       "\n",
       "  service_id  route_type  hour_of_day  \n",
       "0    service           3           12  \n",
       "1    service           3           13  \n",
       "2    service           3           13  \n",
       "3    service           3           15  \n",
       "4    service           3           13  "
      ]
     },
     "execution_count": 6,
     "metadata": {},
     "output_type": "execute_result"
    }
   ],
   "source": [
    "# Merge trip_durations with trips.csv\n",
    "trip_durations = trip_durations.merge(trips[['trip_id', 'route_id', 'service_id']], on='trip_id', how='left')\n",
    "\n",
    "# Merge with routes.csv to get route_type\n",
    "trip_durations = trip_durations.merge(routes[['route_id', 'route_type']], on='route_id', how='left')\n",
    "\n",
    "# Get the first stop (where trip starts)\n",
    "first_stops = stop_times.groupby('trip_id').first().reset_index()\n",
    "\n",
    "# Extract hour from departure time\n",
    "first_stops['hour_of_day'] = first_stops['departure_time'].dt.components['hours']  #this feature is to represent what time of day a trip starts. helps with rush hour  \n",
    "\n",
    "# Merge hour_of_day into the trip_durations DataFrame\n",
    "df = trip_durations.merge(first_stops[['trip_id', 'hour_of_day']], on='trip_id', how='left')\n",
    "df.head()"
   ]
  },
  {
   "cell_type": "code",
   "execution_count": 8,
   "id": "9f7951db-beea-49ea-95b3-c336281ab993",
   "metadata": {},
   "outputs": [
    {
     "data": {
      "text/plain": [
       "(651, 8)"
      ]
     },
     "execution_count": 8,
     "metadata": {},
     "output_type": "execute_result"
    }
   ],
   "source": [
    "df.shape  # returns (num_rows, num_columns)"
   ]
  },
  {
   "cell_type": "code",
   "execution_count": 9,
   "id": "7203d192-bf37-4723-b081-9ebbb9c92350",
   "metadata": {},
   "outputs": [
    {
     "data": {
      "text/plain": [
       "trip_id                0\n",
       "start_time             0\n",
       "end_time               0\n",
       "travel_time_minutes    0\n",
       "route_id               0\n",
       "service_id             0\n",
       "route_type             0\n",
       "hour_of_day            0\n",
       "dtype: int64"
      ]
     },
     "execution_count": 9,
     "metadata": {},
     "output_type": "execute_result"
    }
   ],
   "source": [
    "df.isnull().sum()"
   ]
  },
  {
   "cell_type": "code",
   "execution_count": null,
   "id": "6e99a404-b44d-47b4-a5b8-8d8b09442018",
   "metadata": {},
   "outputs": [],
   "source": []
  }
 ],
 "metadata": {
  "kernelspec": {
   "display_name": "dl",
   "language": "python",
   "name": "dl"
  },
  "language_info": {
   "codemirror_mode": {
    "name": "ipython",
    "version": 3
   },
   "file_extension": ".py",
   "mimetype": "text/x-python",
   "name": "python",
   "nbconvert_exporter": "python",
   "pygments_lexer": "ipython3",
   "version": "3.10.13"
  }
 },
 "nbformat": 4,
 "nbformat_minor": 5
}
