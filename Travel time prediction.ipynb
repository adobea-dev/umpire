{
 "cells": [
  {
   "cell_type": "code",
   "execution_count": 3,
   "id": "e6ce52b7-11fa-4be2-bc44-d0a6f521d806",
   "metadata": {},
   "outputs": [
    {
     "name": "stdout",
     "output_type": "stream",
     "text": [
      "C:\\Users\\S P E C T R E\\Desktop\\Personal Projects\\umpire\n"
     ]
    }
   ],
   "source": [
    "#libraries\n",
    "import pandas as pd\n",
    "import os\n",
    "print(os.getcwd())"
   ]
  },
  {
   "cell_type": "code",
   "execution_count": 4,
   "id": "0747c254-fee3-494e-8213-115ca37bbedb",
   "metadata": {},
   "outputs": [],
   "source": [
    "base_path = r\"C:\\Users\\S P E C T R E\\Desktop\\Personal Projects\\umpire\\gtfs-accra-ghana-2016\""
   ]
  },
  {
   "cell_type": "code",
   "execution_count": 6,
   "id": "43150e0a-17f5-42c6-a388-f54b67026f96",
   "metadata": {},
   "outputs": [],
   "source": [
    "stop_times = pd.read_csv(f\"{base_path}\\\\stop_times.csv\")\n",
    "trips = pd.read_csv(f\"{base_path}\\\\trips.csv\")\n",
    "routes = pd.read_csv(f\"{base_path}\\\\routes.csv\")\n",
    "calendar = pd.read_csv(f\"{base_path}\\\\calendar.csv\")\n",
    "shapes = pd.read_csv(f\"{base_path}\\\\shapes.csv\")\n",
    "stops = pd.read_csv(f\"{base_path}\\\\stops.csv\")\n",
    "fare_rules = pd.read_csv(f\"{base_path}\\\\fare_rules.csv\")\n",
    "fare_attributes = pd.read_csv(f\"{base_path}\\\\fare_attributes.csv\")\n",
    "agency = pd.read_csv(f\"{base_path}\\\\agency.csv\")"
   ]
  },
  {
   "cell_type": "code",
   "execution_count": null,
   "id": "1ec7f1a5-dc83-4a0f-bbb0-adce29078b6e",
   "metadata": {},
   "outputs": [],
   "source": []
  }
 ],
 "metadata": {
  "kernelspec": {
   "display_name": "dl",
   "language": "python",
   "name": "dl"
  },
  "language_info": {
   "codemirror_mode": {
    "name": "ipython",
    "version": 3
   },
   "file_extension": ".py",
   "mimetype": "text/x-python",
   "name": "python",
   "nbconvert_exporter": "python",
   "pygments_lexer": "ipython3",
   "version": "3.10.13"
  }
 },
 "nbformat": 4,
 "nbformat_minor": 5
}
